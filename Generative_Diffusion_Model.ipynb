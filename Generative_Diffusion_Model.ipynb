{
  "nbformat": 4,
  "nbformat_minor": 0,
  "metadata": {
    "colab": {
      "provenance": [],
      "include_colab_link": true
    },
    "kernelspec": {
      "name": "python3",
      "display_name": "Python 3"
    },
    "language_info": {
      "name": "python"
    }
  },
  "cells": [
    {
      "cell_type": "markdown",
      "metadata": {
        "id": "view-in-github",
        "colab_type": "text"
      },
      "source": [
        "<a href=\"https://colab.research.google.com/github/varunchitturi/Algorithmic-Stock-Trader/blob/main/Generative_Diffusion_Model.ipynb\" target=\"_parent\"><img src=\"https://colab.research.google.com/assets/colab-badge.svg\" alt=\"Open In Colab\"/></a>"
      ]
    },
    {
      "cell_type": "code",
      "source": [
        "!pip install diffusers"
      ],
      "metadata": {
        "colab": {
          "base_uri": "https://localhost:8080/"
        },
        "id": "IrC4k-JCGH0x",
        "outputId": "c8d670d0-3f6e-4d66-c23e-9c490e3e7ea8"
      },
      "execution_count": 2,
      "outputs": [
        {
          "output_type": "stream",
          "name": "stdout",
          "text": [
            "Collecting diffusers\n",
            "  Downloading diffusers-0.27.2-py3-none-any.whl (2.0 MB)\n",
            "\u001b[2K     \u001b[90m━━━━━━━━━━━━━━━━━━━━━━━━━━━━━━━━━━━━━━━━\u001b[0m \u001b[32m2.0/2.0 MB\u001b[0m \u001b[31m9.5 MB/s\u001b[0m eta \u001b[36m0:00:00\u001b[0m\n",
            "\u001b[?25hRequirement already satisfied: importlib-metadata in /usr/local/lib/python3.10/dist-packages (from diffusers) (7.1.0)\n",
            "Requirement already satisfied: filelock in /usr/local/lib/python3.10/dist-packages (from diffusers) (3.14.0)\n",
            "Requirement already satisfied: huggingface-hub>=0.20.2 in /usr/local/lib/python3.10/dist-packages (from diffusers) (0.20.3)\n",
            "Requirement already satisfied: numpy in /usr/local/lib/python3.10/dist-packages (from diffusers) (1.25.2)\n",
            "Requirement already satisfied: regex!=2019.12.17 in /usr/local/lib/python3.10/dist-packages (from diffusers) (2023.12.25)\n",
            "Requirement already satisfied: requests in /usr/local/lib/python3.10/dist-packages (from diffusers) (2.31.0)\n",
            "Requirement already satisfied: safetensors>=0.3.1 in /usr/local/lib/python3.10/dist-packages (from diffusers) (0.4.3)\n",
            "Requirement already satisfied: Pillow in /usr/local/lib/python3.10/dist-packages (from diffusers) (9.4.0)\n",
            "Requirement already satisfied: fsspec>=2023.5.0 in /usr/local/lib/python3.10/dist-packages (from huggingface-hub>=0.20.2->diffusers) (2023.6.0)\n",
            "Requirement already satisfied: tqdm>=4.42.1 in /usr/local/lib/python3.10/dist-packages (from huggingface-hub>=0.20.2->diffusers) (4.66.4)\n",
            "Requirement already satisfied: pyyaml>=5.1 in /usr/local/lib/python3.10/dist-packages (from huggingface-hub>=0.20.2->diffusers) (6.0.1)\n",
            "Requirement already satisfied: typing-extensions>=3.7.4.3 in /usr/local/lib/python3.10/dist-packages (from huggingface-hub>=0.20.2->diffusers) (4.11.0)\n",
            "Requirement already satisfied: packaging>=20.9 in /usr/local/lib/python3.10/dist-packages (from huggingface-hub>=0.20.2->diffusers) (24.0)\n",
            "Requirement already satisfied: zipp>=0.5 in /usr/local/lib/python3.10/dist-packages (from importlib-metadata->diffusers) (3.18.1)\n",
            "Requirement already satisfied: charset-normalizer<4,>=2 in /usr/local/lib/python3.10/dist-packages (from requests->diffusers) (3.3.2)\n",
            "Requirement already satisfied: idna<4,>=2.5 in /usr/local/lib/python3.10/dist-packages (from requests->diffusers) (3.7)\n",
            "Requirement already satisfied: urllib3<3,>=1.21.1 in /usr/local/lib/python3.10/dist-packages (from requests->diffusers) (2.0.7)\n",
            "Requirement already satisfied: certifi>=2017.4.17 in /usr/local/lib/python3.10/dist-packages (from requests->diffusers) (2024.2.2)\n",
            "Installing collected packages: diffusers\n",
            "Successfully installed diffusers-0.27.2\n"
          ]
        }
      ]
    },
    {
      "cell_type": "code",
      "execution_count": 3,
      "metadata": {
        "id": "ixN7o5qOGebT"
      },
      "outputs": [],
      "source": [
        "\n",
        "import torch\n",
        "import torch.nn as nn\n",
        "import torch.nn.functional as F\n",
        "import torch.optim as optim\n",
        "from torchvision import datasets, transforms\n",
        "import matplotlib.pyplot as plt\n",
        "import numpy as np\n",
        "import time\n",
        "from diffusers import DDPMPipeline\n",
        "import random"
      ]
    },
    {
      "cell_type": "code",
      "source": [
        "from torch.utils.data import DataLoader, Subset\n",
        "# Image normalization\n",
        "# Converts the image into a tensor and normalizes to acheive a mean of 0 and variance of 1\n",
        "transform = transforms.Compose([\n",
        "        transforms.Resize((32,32)),\n",
        "        transforms.ToTensor(),\n",
        "        transforms.Normalize((0.1307,), (0.3081,))\n",
        "        ])\n",
        "\n",
        "# Download MNIST train and test set and normalize images\n",
        "train_set = datasets.MNIST('./data', train=True, download=True, transform=transform)\n",
        "test_set = datasets.MNIST('./data', train=False, download=True, transform=transform)\n",
        "\n",
        "subset_size = int(0.016 * len(train_set))\n",
        "indices = torch.randperm(len(train_set))[:subset_size]\n",
        "train_set = Subset(train_set, indices)\n",
        "\n",
        "subset_size = int(0.096 * len(test_set))\n",
        "indices = torch.randperm(len(test_set))[:subset_size]\n",
        "test_set = Subset(test_set, indices)\n",
        "\n",
        "# Define train and test dataloaders, used to get batches sequentially\n",
        "train_loader = torch.utils.data.DataLoader(train_set, batch_size=32)\n",
        "test_loader = torch.utils.data.DataLoader(test_set, batch_size=32)"
      ],
      "metadata": {
        "id": "HbuHnYbDGlGo",
        "colab": {
          "base_uri": "https://localhost:8080/"
        },
        "outputId": "a5c4caa7-3f9b-4c5d-882d-1b72a4020518"
      },
      "execution_count": 4,
      "outputs": [
        {
          "output_type": "stream",
          "name": "stdout",
          "text": [
            "Downloading http://yann.lecun.com/exdb/mnist/train-images-idx3-ubyte.gz\n",
            "Failed to download (trying next):\n",
            "HTTP Error 403: Forbidden\n",
            "\n",
            "Downloading https://ossci-datasets.s3.amazonaws.com/mnist/train-images-idx3-ubyte.gz\n",
            "Downloading https://ossci-datasets.s3.amazonaws.com/mnist/train-images-idx3-ubyte.gz to ./data/MNIST/raw/train-images-idx3-ubyte.gz\n"
          ]
        },
        {
          "output_type": "stream",
          "name": "stderr",
          "text": [
            "100%|██████████| 9912422/9912422 [00:00<00:00, 35381536.43it/s]\n"
          ]
        },
        {
          "output_type": "stream",
          "name": "stdout",
          "text": [
            "Extracting ./data/MNIST/raw/train-images-idx3-ubyte.gz to ./data/MNIST/raw\n",
            "\n",
            "Downloading http://yann.lecun.com/exdb/mnist/train-labels-idx1-ubyte.gz\n",
            "Failed to download (trying next):\n",
            "HTTP Error 403: Forbidden\n",
            "\n",
            "Downloading https://ossci-datasets.s3.amazonaws.com/mnist/train-labels-idx1-ubyte.gz\n",
            "Downloading https://ossci-datasets.s3.amazonaws.com/mnist/train-labels-idx1-ubyte.gz to ./data/MNIST/raw/train-labels-idx1-ubyte.gz\n"
          ]
        },
        {
          "output_type": "stream",
          "name": "stderr",
          "text": [
            "100%|██████████| 28881/28881 [00:00<00:00, 1216576.05it/s]\n"
          ]
        },
        {
          "output_type": "stream",
          "name": "stdout",
          "text": [
            "Extracting ./data/MNIST/raw/train-labels-idx1-ubyte.gz to ./data/MNIST/raw\n",
            "\n",
            "Downloading http://yann.lecun.com/exdb/mnist/t10k-images-idx3-ubyte.gz\n",
            "Failed to download (trying next):\n",
            "HTTP Error 403: Forbidden\n",
            "\n",
            "Downloading https://ossci-datasets.s3.amazonaws.com/mnist/t10k-images-idx3-ubyte.gz\n",
            "Downloading https://ossci-datasets.s3.amazonaws.com/mnist/t10k-images-idx3-ubyte.gz to ./data/MNIST/raw/t10k-images-idx3-ubyte.gz\n"
          ]
        },
        {
          "output_type": "stream",
          "name": "stderr",
          "text": [
            "100%|██████████| 1648877/1648877 [00:00<00:00, 9237323.05it/s]\n"
          ]
        },
        {
          "output_type": "stream",
          "name": "stdout",
          "text": [
            "Extracting ./data/MNIST/raw/t10k-images-idx3-ubyte.gz to ./data/MNIST/raw\n",
            "\n",
            "Downloading http://yann.lecun.com/exdb/mnist/t10k-labels-idx1-ubyte.gz\n",
            "Failed to download (trying next):\n",
            "HTTP Error 403: Forbidden\n",
            "\n",
            "Downloading https://ossci-datasets.s3.amazonaws.com/mnist/t10k-labels-idx1-ubyte.gz\n",
            "Downloading https://ossci-datasets.s3.amazonaws.com/mnist/t10k-labels-idx1-ubyte.gz to ./data/MNIST/raw/t10k-labels-idx1-ubyte.gz\n"
          ]
        },
        {
          "output_type": "stream",
          "name": "stderr",
          "text": [
            "100%|██████████| 4542/4542 [00:00<00:00, 6960368.57it/s]"
          ]
        },
        {
          "output_type": "stream",
          "name": "stdout",
          "text": [
            "Extracting ./data/MNIST/raw/t10k-labels-idx1-ubyte.gz to ./data/MNIST/raw\n",
            "\n"
          ]
        },
        {
          "output_type": "stream",
          "name": "stderr",
          "text": [
            "\n"
          ]
        }
      ]
    },
    {
      "cell_type": "code",
      "source": [
        "def add_noise(alpha_t, x, t):\n",
        "    epsilon = torch.randn(x.shape)\n",
        "    alpha_bar_t = alpha_t ** t\n",
        "    noisy_image = np.sqrt(alpha_bar_t) * x  + (1 - alpha_bar_t) * epsilon\n",
        "\n",
        "    return noisy_image"
      ],
      "metadata": {
        "id": "CHJroAqoGoLW"
      },
      "execution_count": 5,
      "outputs": []
    },
    {
      "cell_type": "code",
      "source": [
        "sample_image = train_set[0][0]\n",
        "\n",
        "# Make a noisy image\n",
        "epsilon = torch.randn_like(sample_image)\n",
        "alpha_t = 0.99\n",
        "noisy_image = add_noise(alpha_t, sample_image, 10)\n",
        "more_noisy_image = add_noise(alpha_t, sample_image, 1000)\n",
        "\n",
        "# Plot the clear image and the noisy image\n",
        "fig, axs = plt.subplots(1, 3, figsize=(10, 5))\n",
        "axs[0].imshow(sample_image.squeeze(0), cmap='gray')\n",
        "axs[0].set_title('clear image')\n",
        "axs[1].imshow(noisy_image.squeeze(0), cmap='gray')\n",
        "axs[1].set_title('noisy image (t=10)')\n",
        "axs[2].imshow(more_noisy_image.squeeze(0), cmap='gray')\n",
        "axs[2].set_title('noisy image (t=1000)')\n",
        "plt.show()"
      ],
      "metadata": {
        "id": "sN9n0ESdGq2g",
        "colab": {
          "base_uri": "https://localhost:8080/",
          "height": 310
        },
        "outputId": "d3a70bd1-8e97-468d-cac2-0a3ad3a76e3c"
      },
      "execution_count": 6,
      "outputs": [
        {
          "output_type": "display_data",
          "data": {
            "text/plain": [
              "<Figure size 1000x500 with 3 Axes>"
            ],
            "image/png": "[encoded data removed]"
          },
          "metadata": {}
        }
      ]
    },
    {
      "cell_type": "code",
      "source": [
        "from diffusers import UNet2DModel\n",
        "\n",
        "model = UNet2DModel(\n",
        "    sample_size=32,\n",
        "    in_channels=1,\n",
        "    out_channels=1,\n",
        "    layers_per_block=2,\n",
        "    block_out_channels=(128,128,256,512),\n",
        "    down_block_types=(\n",
        "        \"DownBlock2D\",\n",
        "        \"DownBlock2D\",\n",
        "        \"AttnDownBlock2D\",\n",
        "        \"DownBlock2D\",\n",
        "    ),\n",
        "    up_block_types=(\n",
        "        \"UpBlock2D\",\n",
        "        \"AttnUpBlock2D\",\n",
        "        \"UpBlock2D\",\n",
        "        \"UpBlock2D\",\n",
        "    ),\n",
        ")"
      ],
      "metadata": {
        "id": "3ltJ6nJLGvZ0"
      },
      "execution_count": 7,
      "outputs": []
    },
    {
      "cell_type": "code",
      "source": [
        "optimizer = torch.optim.AdamW(model.parameters(), lr=2e-4)\n",
        "\n",
        "# Learning rate scheduler\n",
        "lr_scheduler = torch.optim.lr_scheduler.StepLR(optimizer, step_size=1, gamma=0.9)\n",
        "\n",
        "lossTrain = []\n",
        "lossTest = []\n",
        "\n",
        "num_epochs = 5\n",
        "\n",
        "for epoch in range(num_epochs):\n",
        "    train_loss_epoch = 0.\n",
        "    test_loss_epoch = 0.\n",
        "\n",
        "    for data, target in train_loader:\n",
        "        # Set model in training mode\n",
        "        model.train()\n",
        "\n",
        "        # Generate a random timestep for each image\n",
        "        t = torch.randint(2, 1000, size=(32,))\n",
        "        alpha_t = 0.99\n",
        "\n",
        "        # Add noise to the batch of images\n",
        "        noisy_data = torch.empty_like(data)\n",
        "        for i in range(data.size(0)):\n",
        "            noisy_data[i] = add_noise(alpha_t, data[i], t[i])\n",
        "\n",
        "        # Compute batch predictions\n",
        "        noise_pred = model(noisy_data, t, return_dict=False)[0]\n",
        "\n",
        "        # Compute loss\n",
        "        train_loss = F.mse_loss(noise_pred, data)\n",
        "\n",
        "        # Compute gradients of loss w respect to current params\n",
        "        train_loss.backward()\n",
        "\n",
        "        # Update params using SGD\n",
        "        optimizer.step()\n",
        "\n",
        "        # Accumulate batch losses\n",
        "        train_loss_epoch += train_loss.item()\n",
        "\n",
        "        # Clear gradients of previous batch\n",
        "        optimizer.zero_grad()\n",
        "\n",
        "    # Update learning rate\n",
        "    lr_scheduler.step()\n",
        "\n",
        "    for data, target in train_loader:\n",
        "        # Set the model to evaluation mode.\n",
        "        model.eval()\n",
        "        with torch.no_grad():\n",
        "            # Generate a random timestep for each image\n",
        "            t = torch.randint(2, 1000, size=(32,))\n",
        "            alpha_t = 0.99\n",
        "\n",
        "            # Add noise to the batch of images\n",
        "            noisy_data = torch.empty_like(data)\n",
        "            for i in range(data.size(0)):\n",
        "                noisy_data[i] = add_noise(alpha_t, data[i], t[i])\n",
        "\n",
        "            # Compute batch predictions\n",
        "            noise_pred = model(noisy_data, t, return_dict=False)[0]\n",
        "\n",
        "            # Compute loss\n",
        "            test_loss = F.mse_loss(noise_pred, data)\n",
        "            test_loss_epoch += test_loss.item()\n",
        "\n",
        "    lossTrain.append(train_loss_epoch/len(train_loader))\n",
        "    lossTest.append(test_loss_epoch/len(test_loader))\n",
        "\n",
        "    print(f\"Epoch: {epoch} \\t Train Loss: {train_loss_epoch/len(train_loader):.3f} \\t TestLoss: {test_loss_epoch/len(test_loader):.3f}\")\n",
        "print(f\"Final Training Loss: {lossTrain[-1]:.2f}\")\n",
        "print(f\"Final Test Loss: {lossTest[-1]:.2f}\")"
      ],
      "metadata": {
        "id": "AnfdnHgbGwU_"
      },
      "execution_count": null,
      "outputs": []
    },
    {
      "cell_type": "code",
      "source": [
        "# Generating images\n",
        "noise = torch.randn([1, 1, 32, 32])\n",
        "generated_images = []\n",
        "\n",
        "model.eval()\n",
        "num_timesteps_list = [random.randint(500, 1000) for _ in range(10)]\n",
        "alpha_t = 0.99\n",
        "with torch.no_grad():\n",
        "    for num_timesteps in num_timesteps_list:\n",
        "        x_t = torch.randn([1, 1, 32, 32])\n",
        "        for t in reversed(range(1, num_timesteps)):\n",
        "            timestep = torch.tensor([t/num_timesteps])\n",
        "            x_theta = model(x_t, timestep, return_dict=False)[0]\n",
        "            alpha_bar_t = alpha_t ** t\n",
        "            alpha_bar_t_1 = alpha_t ** (t-1)\n",
        "            x_t = 1 / (1 - alpha_bar_t) * (np.sqrt(alpha_t) * (1 - alpha_bar_t_1) * x_t + np.sqrt(alpha_bar_t_1) * (1 - alpha_t) * x_theta)\n",
        "        generated_images.append(x_t.squeeze().squeeze().numpy())\n",
        "\n",
        "# Visualize the output\n",
        "fig, axes = plt.subplots(nrows=2, ncols=5, figsize=(15, 6))\n",
        "for idx, ax in enumerate(axes.flatten()):\n",
        "    ax.imshow(generated_images[idx], cmap='gray')\n",
        "    ax.axis('off')\n",
        "    ax.set_title(f'Generated image {idx + 1}')\n",
        "plt.show()"
      ],
      "metadata": {
        "id": "A27RFM4sGzoU"
      },
      "execution_count": null,
      "outputs": []
    }
  ]
}